{
 "metadata": {
  "language_info": {
   "codemirror_mode": {
    "name": "ipython",
    "version": 3
   },
   "file_extension": ".py",
   "mimetype": "text/x-python",
   "name": "python",
   "nbconvert_exporter": "python",
   "pygments_lexer": "ipython3",
   "version": "3.7.6-final"
  },
  "orig_nbformat": 2,
  "kernelspec": {
   "name": "python_defaultSpec_1597736364726",
   "display_name": "Python 3.7.6 64-bit ('base': conda)"
  }
 },
 "nbformat": 4,
 "nbformat_minor": 2,
 "cells": [
  {
   "cell_type": "markdown",
   "metadata": {},
   "source": [
    "# final"
   ]
  },
  {
   "cell_type": "code",
   "execution_count": 8,
   "metadata": {
    "tags": []
   },
   "outputs": [
    {
     "output_type": "error",
     "ename": "IndentationError",
     "evalue": "unexpected unindent (<ipython-input-8-43f5514756fc>, line 100)",
     "traceback": [
      "\u001b[1;36m  File \u001b[1;32m\"<ipython-input-8-43f5514756fc>\"\u001b[1;36m, line \u001b[1;32m100\u001b[0m\n\u001b[1;33m    print('lww is',lww)\u001b[0m\n\u001b[1;37m                       ^\u001b[0m\n\u001b[1;31mIndentationError\u001b[0m\u001b[1;31m:\u001b[0m unexpected unindent\n"
     ]
    }
   ],
   "source": [
    "from requests import get\n",
    "import bs4\n",
    "import csv\n",
    "csv_file=open('abc.csv','a',encoding='utf-8')\n",
    "csv_writer=csv.writer(csv_file,quoting=csv.QUOTE_ALL)\n",
    "\n",
    "with open('urls.txt') as file:\n",
    "    urls = file.readlines()\n",
    "# print(len(urls))\n",
    "count=0\n",
    "\n",
    "\n",
    "def join_the_times():\n",
    "    for_removal=[]\n",
    "    for i in word_copy:\n",
    "        if (i.startswith('Temple Timings')):\n",
    "            place=word.index(i)\n",
    "            tttt =' '.join(word[word.index(i) : word.index(word_copy[-1])])\n",
    "            for u in range(word.index(i),word.index(word_copy[-1])):\n",
    "                for_removal.append(word[u])                                                                                       \n",
    "            for i in for_removal:\n",
    "                word_copy.remove(i)\n",
    "            word_copy.insert(place,tttt)\n",
    "#----------------------------------------------------------------------------------------\n",
    "    \n",
    "   # for_removal=[]\n",
    "   # for i in word_copy:\n",
    "   #     if (i.endswith('Morning')):\n",
    "   #         # print(i)\n",
    "   #             # Temple Timings : Morning\n",
    "   #         place=word.index(i)\n",
    "   #         tttt =' '.join(word[word.index(i) : word.index(i)+3])\n",
    "   #         for u in range(word.index(i),word.index(i)+3):\n",
    "   #             # print(word[u])\n",
    "   #             for_removal.append(word[u])\n",
    "   #             for i in for_removal:\n",
    "   #                 word_copy.remove(i)\n",
    "   #         word_copy.insert(place,tttt)\n",
    "file=open('didnt scrap.txt','w')\n",
    "for url in urls[126:127]:\n",
    "    didnt_scrap_urls=[]\n",
    "    try:\n",
    "        res = get(url[:-1])\n",
    "        response = bs4.BeautifulSoup(res.text, 'html.parser')\n",
    "        # print(response.prettify())\n",
    "        \n",
    "        lppp=[]\n",
    "        heading=response.find('h1', class_='entry-title').text\n",
    "        # matter=response.find('div',class_='entry-summary')\n",
    "        # with open('bla.txt','w') as fi:\n",
    "        # for i in matter.findAll('p'):\n",
    "        #     print(i.text,'\\n')\n",
    "        #     lppp.append(i.text)\n",
    "        # joined_word=' '.join(lppp)\n",
    "        # word=joined_word.replace('\\t',' ').split('\\n')\n",
    "        # word_copy=word\n",
    "        # print(word)\n",
    "    #----------------------------------------------------------------------------------------\n",
    "        matter=response.find('div',class_='entry-summary')\n",
    "        for i in matter.findAll('p'):\n",
    "            # print(i.text)\n",
    "            # luuu=i.text.replace('\\t',' ').split('\\n')\n",
    "            lppp.append(i.text)\n",
    "        joined_word=' '.join(lppp)\n",
    "        word=joined_word.replace('\\t',' ').split('\\n')\n",
    "        word_copy=word\n",
    "        # print(word)\n",
    "        lww=[]\n",
    "        testing_for_missing=[]\n",
    "        fixed=['Locality/village','District','State','Country', 'Nearest City/Town',  'Best Season To Visit','Languages','Temple Timings', 'Photography']\n",
    "\n",
    "    #-----------------------------------------------------------------------------------------------------------------------\n",
    "\n",
    "\n",
    "        # for_removal=[]\n",
    "        # for i in word_copy:\n",
    "        #     if (i.endswith('Morning')):\n",
    "        #         print(i)\n",
    "        #             # Temple Timings : Morning\n",
    "        #         place=word.index(i)\n",
    "        #         tttt =' '.join(word[word.index(i) : word.index(i)+3])\n",
    "        #         for u in range(word.index(i),word.index(i)+3):\n",
    "        #             # print(word[u])\n",
    "        #             for_removal.append(word[u])\n",
    "        #         for i in for_removal:\n",
    "        #             word_copy.remove(i)\n",
    "        #         word_copy.insert(place,tttt)\n",
    "\n",
    "\n",
    "    #-----------------------------------------------------------------------------------------------------------------------\n",
    "        for i in word_copy:\n",
    "    # print(i)\n",
    "    lww.append(i)\n",
    "    if ':' in i:\n",
    "        # print(i.split(':'))\n",
    "        lww.append(i.split(' :')[1].strip())\n",
    "        testing_for_missing.append(i.split(' :')[0].strip())\n",
    "        # join_the_times()\n",
    "        for i in word_copy:\n",
    "            # print(i)    \n",
    "            try:\n",
    "                lww.append(i.split(' :')[1].strip())\n",
    "                testing_for_missing.append(i.split(' :')[0].strip())\n",
    "                join_the_times()\n",
    "            except IndexError:\n",
    "                lww.append(i.split(':')[1].strip())\n",
    "                testing_for_missing.append(i.split(':')[0].strip())\n",
    "                join_the_times()\n",
    "            except:\n",
    "                pass\n",
    "        got=set(testing_for_missing)\n",
    "        test_result=list(set(fixed)-got)\n",
    "        result=[]\n",
    "        # print(test_result)\n",
    "        for i in fixed:\n",
    "            if i in test_result:\n",
    "                result.append(i)\n",
    "\n",
    "        # print('result',result)\n",
    "        # print('fixed',fixed)\n",
    "\n",
    "        if len(result) > 0:\n",
    "            for i in list(result):\n",
    "                lww.insert(fixed.index(i),'')\n",
    "\n",
    "        # print(lww)\n",
    "        print(count,'length is',len(lww))\n",
    "        loo=[]\n",
    "        for i in response.find('div',class_='panel active'):\n",
    "        #   print(i.text)\n",
    "            loo.append(i.text)\n",
    "        # file.write(i.text)\n",
    "        for j in i.findAll('p'):\n",
    "            loo.append(j.text)\n",
    "        csv_writer.writerow([heading]+lww+[' '.join(loo)])\n",
    "    except:\n",
    "        print(count,url[:-1])\n",
    "        file.write(url)\n",
    "        didnt_scrap_urls.append(url[:-1])\n",
    "    count+=1\n",
    "# print(len(loo))\n",
    "# \n",
    "# \n",
    "    \n",
    "# print((lww))\n",
    "# print([heading]+lww+[' '.join(loo)])\n",
    "csv_file.close()\n",
    "file.close()\n"
   ]
  },
  {
   "cell_type": "markdown",
   "metadata": {},
   "source": [
    "# for urls thats didnt work "
   ]
  },
  {
   "cell_type": "code",
   "execution_count": 10,
   "metadata": {
    "tags": []
   },
   "outputs": [
    {
     "output_type": "stream",
     "name": "stdout",
     "text": "31th url\n31 length is 3\n32th url\n32 length is 4\n33th url\n33 length is 7\n34th url\n34 length is 3\n35th url\n35 length is 4\n36th url\n"
    },
    {
     "output_type": "error",
     "ename": "KeyboardInterrupt",
     "evalue": "",
     "traceback": [
      "\u001b[1;31m---------------------------------------------------------------------------\u001b[0m",
      "\u001b[1;31mTypeError\u001b[0m                                 Traceback (most recent call last)",
      "\u001b[1;32m~\\Anaconda3\\lib\\site-packages\\urllib3\\connectionpool.py\u001b[0m in \u001b[0;36m_make_request\u001b[1;34m(self, conn, method, url, timeout, chunked, **httplib_request_kw)\u001b[0m\n\u001b[0;32m    376\u001b[0m             \u001b[1;32mtry\u001b[0m\u001b[1;33m:\u001b[0m  \u001b[1;31m# Python 2.7, use buffering of HTTP responses\u001b[0m\u001b[1;33m\u001b[0m\u001b[1;33m\u001b[0m\u001b[0m\n\u001b[1;32m--> 377\u001b[1;33m                 \u001b[0mhttplib_response\u001b[0m \u001b[1;33m=\u001b[0m \u001b[0mconn\u001b[0m\u001b[1;33m.\u001b[0m\u001b[0mgetresponse\u001b[0m\u001b[1;33m(\u001b[0m\u001b[0mbuffering\u001b[0m\u001b[1;33m=\u001b[0m\u001b[1;32mTrue\u001b[0m\u001b[1;33m)\u001b[0m\u001b[1;33m\u001b[0m\u001b[1;33m\u001b[0m\u001b[0m\n\u001b[0m\u001b[0;32m    378\u001b[0m             \u001b[1;32mexcept\u001b[0m \u001b[0mTypeError\u001b[0m\u001b[1;33m:\u001b[0m  \u001b[1;31m# Python 3\u001b[0m\u001b[1;33m\u001b[0m\u001b[1;33m\u001b[0m\u001b[0m\n",
      "\u001b[1;31mTypeError\u001b[0m: getresponse() got an unexpected keyword argument 'buffering'",
      "\nDuring handling of the above exception, another exception occurred:\n",
      "\u001b[1;31mKeyboardInterrupt\u001b[0m                         Traceback (most recent call last)",
      "\u001b[1;32m<ipython-input-10-23ea8701505e>\u001b[0m in \u001b[0;36m<module>\u001b[1;34m\u001b[0m\n\u001b[0;32m     24\u001b[0m \u001b[1;33m\u001b[0m\u001b[0m\n\u001b[0;32m     25\u001b[0m     \u001b[0mprint\u001b[0m\u001b[1;33m(\u001b[0m\u001b[1;34mf'{count}th url'\u001b[0m\u001b[1;33m)\u001b[0m\u001b[1;33m\u001b[0m\u001b[1;33m\u001b[0m\u001b[0m\n\u001b[1;32m---> 26\u001b[1;33m     \u001b[0mres\u001b[0m \u001b[1;33m=\u001b[0m \u001b[0mget\u001b[0m\u001b[1;33m(\u001b[0m\u001b[0murl\u001b[0m\u001b[1;33m[\u001b[0m\u001b[1;33m:\u001b[0m\u001b[1;33m-\u001b[0m\u001b[1;36m1\u001b[0m\u001b[1;33m]\u001b[0m\u001b[1;33m)\u001b[0m\u001b[1;33m\u001b[0m\u001b[1;33m\u001b[0m\u001b[0m\n\u001b[0m\u001b[0;32m     27\u001b[0m     \u001b[0mresponse\u001b[0m \u001b[1;33m=\u001b[0m \u001b[0mbs4\u001b[0m\u001b[1;33m.\u001b[0m\u001b[0mBeautifulSoup\u001b[0m\u001b[1;33m(\u001b[0m\u001b[0mres\u001b[0m\u001b[1;33m.\u001b[0m\u001b[0mtext\u001b[0m\u001b[1;33m,\u001b[0m \u001b[1;34m'html.parser'\u001b[0m\u001b[1;33m)\u001b[0m\u001b[1;33m\u001b[0m\u001b[1;33m\u001b[0m\u001b[0m\n\u001b[0;32m     28\u001b[0m     \u001b[1;31m# print(response.prettify())\u001b[0m\u001b[1;33m\u001b[0m\u001b[1;33m\u001b[0m\u001b[1;33m\u001b[0m\u001b[0m\n",
      "\u001b[1;32m~\\Anaconda3\\lib\\site-packages\\requests\\api.py\u001b[0m in \u001b[0;36mget\u001b[1;34m(url, params, **kwargs)\u001b[0m\n\u001b[0;32m     73\u001b[0m \u001b[1;33m\u001b[0m\u001b[0m\n\u001b[0;32m     74\u001b[0m     \u001b[0mkwargs\u001b[0m\u001b[1;33m.\u001b[0m\u001b[0msetdefault\u001b[0m\u001b[1;33m(\u001b[0m\u001b[1;34m'allow_redirects'\u001b[0m\u001b[1;33m,\u001b[0m \u001b[1;32mTrue\u001b[0m\u001b[1;33m)\u001b[0m\u001b[1;33m\u001b[0m\u001b[1;33m\u001b[0m\u001b[0m\n\u001b[1;32m---> 75\u001b[1;33m     \u001b[1;32mreturn\u001b[0m \u001b[0mrequest\u001b[0m\u001b[1;33m(\u001b[0m\u001b[1;34m'get'\u001b[0m\u001b[1;33m,\u001b[0m \u001b[0murl\u001b[0m\u001b[1;33m,\u001b[0m \u001b[0mparams\u001b[0m\u001b[1;33m=\u001b[0m\u001b[0mparams\u001b[0m\u001b[1;33m,\u001b[0m \u001b[1;33m**\u001b[0m\u001b[0mkwargs\u001b[0m\u001b[1;33m)\u001b[0m\u001b[1;33m\u001b[0m\u001b[1;33m\u001b[0m\u001b[0m\n\u001b[0m\u001b[0;32m     76\u001b[0m \u001b[1;33m\u001b[0m\u001b[0m\n\u001b[0;32m     77\u001b[0m \u001b[1;33m\u001b[0m\u001b[0m\n",
      "\u001b[1;32m~\\Anaconda3\\lib\\site-packages\\requests\\api.py\u001b[0m in \u001b[0;36mrequest\u001b[1;34m(method, url, **kwargs)\u001b[0m\n\u001b[0;32m     58\u001b[0m     \u001b[1;31m# cases, and look like a memory leak in others.\u001b[0m\u001b[1;33m\u001b[0m\u001b[1;33m\u001b[0m\u001b[1;33m\u001b[0m\u001b[0m\n\u001b[0;32m     59\u001b[0m     \u001b[1;32mwith\u001b[0m \u001b[0msessions\u001b[0m\u001b[1;33m.\u001b[0m\u001b[0mSession\u001b[0m\u001b[1;33m(\u001b[0m\u001b[1;33m)\u001b[0m \u001b[1;32mas\u001b[0m \u001b[0msession\u001b[0m\u001b[1;33m:\u001b[0m\u001b[1;33m\u001b[0m\u001b[1;33m\u001b[0m\u001b[0m\n\u001b[1;32m---> 60\u001b[1;33m         \u001b[1;32mreturn\u001b[0m \u001b[0msession\u001b[0m\u001b[1;33m.\u001b[0m\u001b[0mrequest\u001b[0m\u001b[1;33m(\u001b[0m\u001b[0mmethod\u001b[0m\u001b[1;33m=\u001b[0m\u001b[0mmethod\u001b[0m\u001b[1;33m,\u001b[0m \u001b[0murl\u001b[0m\u001b[1;33m=\u001b[0m\u001b[0murl\u001b[0m\u001b[1;33m,\u001b[0m \u001b[1;33m**\u001b[0m\u001b[0mkwargs\u001b[0m\u001b[1;33m)\u001b[0m\u001b[1;33m\u001b[0m\u001b[1;33m\u001b[0m\u001b[0m\n\u001b[0m\u001b[0;32m     61\u001b[0m \u001b[1;33m\u001b[0m\u001b[0m\n\u001b[0;32m     62\u001b[0m \u001b[1;33m\u001b[0m\u001b[0m\n",
      "\u001b[1;32m~\\Anaconda3\\lib\\site-packages\\requests\\sessions.py\u001b[0m in \u001b[0;36mrequest\u001b[1;34m(self, method, url, params, data, headers, cookies, files, auth, timeout, allow_redirects, proxies, hooks, stream, verify, cert, json)\u001b[0m\n\u001b[0;32m    531\u001b[0m         }\n\u001b[0;32m    532\u001b[0m         \u001b[0msend_kwargs\u001b[0m\u001b[1;33m.\u001b[0m\u001b[0mupdate\u001b[0m\u001b[1;33m(\u001b[0m\u001b[0msettings\u001b[0m\u001b[1;33m)\u001b[0m\u001b[1;33m\u001b[0m\u001b[1;33m\u001b[0m\u001b[0m\n\u001b[1;32m--> 533\u001b[1;33m         \u001b[0mresp\u001b[0m \u001b[1;33m=\u001b[0m \u001b[0mself\u001b[0m\u001b[1;33m.\u001b[0m\u001b[0msend\u001b[0m\u001b[1;33m(\u001b[0m\u001b[0mprep\u001b[0m\u001b[1;33m,\u001b[0m \u001b[1;33m**\u001b[0m\u001b[0msend_kwargs\u001b[0m\u001b[1;33m)\u001b[0m\u001b[1;33m\u001b[0m\u001b[1;33m\u001b[0m\u001b[0m\n\u001b[0m\u001b[0;32m    534\u001b[0m \u001b[1;33m\u001b[0m\u001b[0m\n\u001b[0;32m    535\u001b[0m         \u001b[1;32mreturn\u001b[0m \u001b[0mresp\u001b[0m\u001b[1;33m\u001b[0m\u001b[1;33m\u001b[0m\u001b[0m\n",
      "\u001b[1;32m~\\Anaconda3\\lib\\site-packages\\requests\\sessions.py\u001b[0m in \u001b[0;36msend\u001b[1;34m(self, request, **kwargs)\u001b[0m\n\u001b[0;32m    644\u001b[0m \u001b[1;33m\u001b[0m\u001b[0m\n\u001b[0;32m    645\u001b[0m         \u001b[1;31m# Send the request\u001b[0m\u001b[1;33m\u001b[0m\u001b[1;33m\u001b[0m\u001b[1;33m\u001b[0m\u001b[0m\n\u001b[1;32m--> 646\u001b[1;33m         \u001b[0mr\u001b[0m \u001b[1;33m=\u001b[0m \u001b[0madapter\u001b[0m\u001b[1;33m.\u001b[0m\u001b[0msend\u001b[0m\u001b[1;33m(\u001b[0m\u001b[0mrequest\u001b[0m\u001b[1;33m,\u001b[0m \u001b[1;33m**\u001b[0m\u001b[0mkwargs\u001b[0m\u001b[1;33m)\u001b[0m\u001b[1;33m\u001b[0m\u001b[1;33m\u001b[0m\u001b[0m\n\u001b[0m\u001b[0;32m    647\u001b[0m \u001b[1;33m\u001b[0m\u001b[0m\n\u001b[0;32m    648\u001b[0m         \u001b[1;31m# Total elapsed time of the request (approximately)\u001b[0m\u001b[1;33m\u001b[0m\u001b[1;33m\u001b[0m\u001b[1;33m\u001b[0m\u001b[0m\n",
      "\u001b[1;32m~\\Anaconda3\\lib\\site-packages\\requests\\adapters.py\u001b[0m in \u001b[0;36msend\u001b[1;34m(self, request, stream, timeout, verify, cert, proxies)\u001b[0m\n\u001b[0;32m    447\u001b[0m                     \u001b[0mdecode_content\u001b[0m\u001b[1;33m=\u001b[0m\u001b[1;32mFalse\u001b[0m\u001b[1;33m,\u001b[0m\u001b[1;33m\u001b[0m\u001b[1;33m\u001b[0m\u001b[0m\n\u001b[0;32m    448\u001b[0m                     \u001b[0mretries\u001b[0m\u001b[1;33m=\u001b[0m\u001b[0mself\u001b[0m\u001b[1;33m.\u001b[0m\u001b[0mmax_retries\u001b[0m\u001b[1;33m,\u001b[0m\u001b[1;33m\u001b[0m\u001b[1;33m\u001b[0m\u001b[0m\n\u001b[1;32m--> 449\u001b[1;33m                     \u001b[0mtimeout\u001b[0m\u001b[1;33m=\u001b[0m\u001b[0mtimeout\u001b[0m\u001b[1;33m\u001b[0m\u001b[1;33m\u001b[0m\u001b[0m\n\u001b[0m\u001b[0;32m    450\u001b[0m                 )\n\u001b[0;32m    451\u001b[0m \u001b[1;33m\u001b[0m\u001b[0m\n",
      "\u001b[1;32m~\\Anaconda3\\lib\\site-packages\\urllib3\\connectionpool.py\u001b[0m in \u001b[0;36murlopen\u001b[1;34m(self, method, url, body, headers, retries, redirect, assert_same_host, timeout, pool_timeout, release_conn, chunked, body_pos, **response_kw)\u001b[0m\n\u001b[0;32m    598\u001b[0m                                                   \u001b[0mtimeout\u001b[0m\u001b[1;33m=\u001b[0m\u001b[0mtimeout_obj\u001b[0m\u001b[1;33m,\u001b[0m\u001b[1;33m\u001b[0m\u001b[1;33m\u001b[0m\u001b[0m\n\u001b[0;32m    599\u001b[0m                                                   \u001b[0mbody\u001b[0m\u001b[1;33m=\u001b[0m\u001b[0mbody\u001b[0m\u001b[1;33m,\u001b[0m \u001b[0mheaders\u001b[0m\u001b[1;33m=\u001b[0m\u001b[0mheaders\u001b[0m\u001b[1;33m,\u001b[0m\u001b[1;33m\u001b[0m\u001b[1;33m\u001b[0m\u001b[0m\n\u001b[1;32m--> 600\u001b[1;33m                                                   chunked=chunked)\n\u001b[0m\u001b[0;32m    601\u001b[0m \u001b[1;33m\u001b[0m\u001b[0m\n\u001b[0;32m    602\u001b[0m             \u001b[1;31m# If we're going to release the connection in ``finally:``, then\u001b[0m\u001b[1;33m\u001b[0m\u001b[1;33m\u001b[0m\u001b[1;33m\u001b[0m\u001b[0m\n",
      "\u001b[1;32m~\\Anaconda3\\lib\\site-packages\\urllib3\\connectionpool.py\u001b[0m in \u001b[0;36m_make_request\u001b[1;34m(self, conn, method, url, timeout, chunked, **httplib_request_kw)\u001b[0m\n\u001b[0;32m    378\u001b[0m             \u001b[1;32mexcept\u001b[0m \u001b[0mTypeError\u001b[0m\u001b[1;33m:\u001b[0m  \u001b[1;31m# Python 3\u001b[0m\u001b[1;33m\u001b[0m\u001b[1;33m\u001b[0m\u001b[0m\n\u001b[0;32m    379\u001b[0m                 \u001b[1;32mtry\u001b[0m\u001b[1;33m:\u001b[0m\u001b[1;33m\u001b[0m\u001b[1;33m\u001b[0m\u001b[0m\n\u001b[1;32m--> 380\u001b[1;33m                     \u001b[0mhttplib_response\u001b[0m \u001b[1;33m=\u001b[0m \u001b[0mconn\u001b[0m\u001b[1;33m.\u001b[0m\u001b[0mgetresponse\u001b[0m\u001b[1;33m(\u001b[0m\u001b[1;33m)\u001b[0m\u001b[1;33m\u001b[0m\u001b[1;33m\u001b[0m\u001b[0m\n\u001b[0m\u001b[0;32m    381\u001b[0m                 \u001b[1;32mexcept\u001b[0m \u001b[0mException\u001b[0m \u001b[1;32mas\u001b[0m \u001b[0me\u001b[0m\u001b[1;33m:\u001b[0m\u001b[1;33m\u001b[0m\u001b[1;33m\u001b[0m\u001b[0m\n\u001b[0;32m    382\u001b[0m                     \u001b[1;31m# Remove the TypeError from the exception chain in Python 3;\u001b[0m\u001b[1;33m\u001b[0m\u001b[1;33m\u001b[0m\u001b[1;33m\u001b[0m\u001b[0m\n",
      "\u001b[1;32m~\\Anaconda3\\lib\\http\\client.py\u001b[0m in \u001b[0;36mgetresponse\u001b[1;34m(self)\u001b[0m\n\u001b[0;32m   1342\u001b[0m         \u001b[1;32mtry\u001b[0m\u001b[1;33m:\u001b[0m\u001b[1;33m\u001b[0m\u001b[1;33m\u001b[0m\u001b[0m\n\u001b[0;32m   1343\u001b[0m             \u001b[1;32mtry\u001b[0m\u001b[1;33m:\u001b[0m\u001b[1;33m\u001b[0m\u001b[1;33m\u001b[0m\u001b[0m\n\u001b[1;32m-> 1344\u001b[1;33m                 \u001b[0mresponse\u001b[0m\u001b[1;33m.\u001b[0m\u001b[0mbegin\u001b[0m\u001b[1;33m(\u001b[0m\u001b[1;33m)\u001b[0m\u001b[1;33m\u001b[0m\u001b[1;33m\u001b[0m\u001b[0m\n\u001b[0m\u001b[0;32m   1345\u001b[0m             \u001b[1;32mexcept\u001b[0m \u001b[0mConnectionError\u001b[0m\u001b[1;33m:\u001b[0m\u001b[1;33m\u001b[0m\u001b[1;33m\u001b[0m\u001b[0m\n\u001b[0;32m   1346\u001b[0m                 \u001b[0mself\u001b[0m\u001b[1;33m.\u001b[0m\u001b[0mclose\u001b[0m\u001b[1;33m(\u001b[0m\u001b[1;33m)\u001b[0m\u001b[1;33m\u001b[0m\u001b[1;33m\u001b[0m\u001b[0m\n",
      "\u001b[1;32m~\\Anaconda3\\lib\\http\\client.py\u001b[0m in \u001b[0;36mbegin\u001b[1;34m(self)\u001b[0m\n\u001b[0;32m    304\u001b[0m         \u001b[1;31m# read until we get a non-100 response\u001b[0m\u001b[1;33m\u001b[0m\u001b[1;33m\u001b[0m\u001b[1;33m\u001b[0m\u001b[0m\n\u001b[0;32m    305\u001b[0m         \u001b[1;32mwhile\u001b[0m \u001b[1;32mTrue\u001b[0m\u001b[1;33m:\u001b[0m\u001b[1;33m\u001b[0m\u001b[1;33m\u001b[0m\u001b[0m\n\u001b[1;32m--> 306\u001b[1;33m             \u001b[0mversion\u001b[0m\u001b[1;33m,\u001b[0m \u001b[0mstatus\u001b[0m\u001b[1;33m,\u001b[0m \u001b[0mreason\u001b[0m \u001b[1;33m=\u001b[0m \u001b[0mself\u001b[0m\u001b[1;33m.\u001b[0m\u001b[0m_read_status\u001b[0m\u001b[1;33m(\u001b[0m\u001b[1;33m)\u001b[0m\u001b[1;33m\u001b[0m\u001b[1;33m\u001b[0m\u001b[0m\n\u001b[0m\u001b[0;32m    307\u001b[0m             \u001b[1;32mif\u001b[0m \u001b[0mstatus\u001b[0m \u001b[1;33m!=\u001b[0m \u001b[0mCONTINUE\u001b[0m\u001b[1;33m:\u001b[0m\u001b[1;33m\u001b[0m\u001b[1;33m\u001b[0m\u001b[0m\n\u001b[0;32m    308\u001b[0m                 \u001b[1;32mbreak\u001b[0m\u001b[1;33m\u001b[0m\u001b[1;33m\u001b[0m\u001b[0m\n",
      "\u001b[1;32m~\\Anaconda3\\lib\\http\\client.py\u001b[0m in \u001b[0;36m_read_status\u001b[1;34m(self)\u001b[0m\n\u001b[0;32m    265\u001b[0m \u001b[1;33m\u001b[0m\u001b[0m\n\u001b[0;32m    266\u001b[0m     \u001b[1;32mdef\u001b[0m \u001b[0m_read_status\u001b[0m\u001b[1;33m(\u001b[0m\u001b[0mself\u001b[0m\u001b[1;33m)\u001b[0m\u001b[1;33m:\u001b[0m\u001b[1;33m\u001b[0m\u001b[1;33m\u001b[0m\u001b[0m\n\u001b[1;32m--> 267\u001b[1;33m         \u001b[0mline\u001b[0m \u001b[1;33m=\u001b[0m \u001b[0mstr\u001b[0m\u001b[1;33m(\u001b[0m\u001b[0mself\u001b[0m\u001b[1;33m.\u001b[0m\u001b[0mfp\u001b[0m\u001b[1;33m.\u001b[0m\u001b[0mreadline\u001b[0m\u001b[1;33m(\u001b[0m\u001b[0m_MAXLINE\u001b[0m \u001b[1;33m+\u001b[0m \u001b[1;36m1\u001b[0m\u001b[1;33m)\u001b[0m\u001b[1;33m,\u001b[0m \u001b[1;34m\"iso-8859-1\"\u001b[0m\u001b[1;33m)\u001b[0m\u001b[1;33m\u001b[0m\u001b[1;33m\u001b[0m\u001b[0m\n\u001b[0m\u001b[0;32m    268\u001b[0m         \u001b[1;32mif\u001b[0m \u001b[0mlen\u001b[0m\u001b[1;33m(\u001b[0m\u001b[0mline\u001b[0m\u001b[1;33m)\u001b[0m \u001b[1;33m>\u001b[0m \u001b[0m_MAXLINE\u001b[0m\u001b[1;33m:\u001b[0m\u001b[1;33m\u001b[0m\u001b[1;33m\u001b[0m\u001b[0m\n\u001b[0;32m    269\u001b[0m             \u001b[1;32mraise\u001b[0m \u001b[0mLineTooLong\u001b[0m\u001b[1;33m(\u001b[0m\u001b[1;34m\"status line\"\u001b[0m\u001b[1;33m)\u001b[0m\u001b[1;33m\u001b[0m\u001b[1;33m\u001b[0m\u001b[0m\n",
      "\u001b[1;32m~\\Anaconda3\\lib\\socket.py\u001b[0m in \u001b[0;36mreadinto\u001b[1;34m(self, b)\u001b[0m\n\u001b[0;32m    587\u001b[0m         \u001b[1;32mwhile\u001b[0m \u001b[1;32mTrue\u001b[0m\u001b[1;33m:\u001b[0m\u001b[1;33m\u001b[0m\u001b[1;33m\u001b[0m\u001b[0m\n\u001b[0;32m    588\u001b[0m             \u001b[1;32mtry\u001b[0m\u001b[1;33m:\u001b[0m\u001b[1;33m\u001b[0m\u001b[1;33m\u001b[0m\u001b[0m\n\u001b[1;32m--> 589\u001b[1;33m                 \u001b[1;32mreturn\u001b[0m \u001b[0mself\u001b[0m\u001b[1;33m.\u001b[0m\u001b[0m_sock\u001b[0m\u001b[1;33m.\u001b[0m\u001b[0mrecv_into\u001b[0m\u001b[1;33m(\u001b[0m\u001b[0mb\u001b[0m\u001b[1;33m)\u001b[0m\u001b[1;33m\u001b[0m\u001b[1;33m\u001b[0m\u001b[0m\n\u001b[0m\u001b[0;32m    590\u001b[0m             \u001b[1;32mexcept\u001b[0m \u001b[0mtimeout\u001b[0m\u001b[1;33m:\u001b[0m\u001b[1;33m\u001b[0m\u001b[1;33m\u001b[0m\u001b[0m\n\u001b[0;32m    591\u001b[0m                 \u001b[0mself\u001b[0m\u001b[1;33m.\u001b[0m\u001b[0m_timeout_occurred\u001b[0m \u001b[1;33m=\u001b[0m \u001b[1;32mTrue\u001b[0m\u001b[1;33m\u001b[0m\u001b[1;33m\u001b[0m\u001b[0m\n",
      "\u001b[1;32m~\\Anaconda3\\lib\\site-packages\\urllib3\\contrib\\pyopenssl.py\u001b[0m in \u001b[0;36mrecv_into\u001b[1;34m(self, *args, **kwargs)\u001b[0m\n\u001b[0;32m    295\u001b[0m     \u001b[1;32mdef\u001b[0m \u001b[0mrecv_into\u001b[0m\u001b[1;33m(\u001b[0m\u001b[0mself\u001b[0m\u001b[1;33m,\u001b[0m \u001b[1;33m*\u001b[0m\u001b[0margs\u001b[0m\u001b[1;33m,\u001b[0m \u001b[1;33m**\u001b[0m\u001b[0mkwargs\u001b[0m\u001b[1;33m)\u001b[0m\u001b[1;33m:\u001b[0m\u001b[1;33m\u001b[0m\u001b[1;33m\u001b[0m\u001b[0m\n\u001b[0;32m    296\u001b[0m         \u001b[1;32mtry\u001b[0m\u001b[1;33m:\u001b[0m\u001b[1;33m\u001b[0m\u001b[1;33m\u001b[0m\u001b[0m\n\u001b[1;32m--> 297\u001b[1;33m             \u001b[1;32mreturn\u001b[0m \u001b[0mself\u001b[0m\u001b[1;33m.\u001b[0m\u001b[0mconnection\u001b[0m\u001b[1;33m.\u001b[0m\u001b[0mrecv_into\u001b[0m\u001b[1;33m(\u001b[0m\u001b[1;33m*\u001b[0m\u001b[0margs\u001b[0m\u001b[1;33m,\u001b[0m \u001b[1;33m**\u001b[0m\u001b[0mkwargs\u001b[0m\u001b[1;33m)\u001b[0m\u001b[1;33m\u001b[0m\u001b[1;33m\u001b[0m\u001b[0m\n\u001b[0m\u001b[0;32m    298\u001b[0m         \u001b[1;32mexcept\u001b[0m \u001b[0mOpenSSL\u001b[0m\u001b[1;33m.\u001b[0m\u001b[0mSSL\u001b[0m\u001b[1;33m.\u001b[0m\u001b[0mSysCallError\u001b[0m \u001b[1;32mas\u001b[0m \u001b[0me\u001b[0m\u001b[1;33m:\u001b[0m\u001b[1;33m\u001b[0m\u001b[1;33m\u001b[0m\u001b[0m\n\u001b[0;32m    299\u001b[0m             \u001b[1;32mif\u001b[0m \u001b[0mself\u001b[0m\u001b[1;33m.\u001b[0m\u001b[0msuppress_ragged_eofs\u001b[0m \u001b[1;32mand\u001b[0m \u001b[0me\u001b[0m\u001b[1;33m.\u001b[0m\u001b[0margs\u001b[0m \u001b[1;33m==\u001b[0m \u001b[1;33m(\u001b[0m\u001b[1;33m-\u001b[0m\u001b[1;36m1\u001b[0m\u001b[1;33m,\u001b[0m \u001b[1;34m'Unexpected EOF'\u001b[0m\u001b[1;33m)\u001b[0m\u001b[1;33m:\u001b[0m\u001b[1;33m\u001b[0m\u001b[1;33m\u001b[0m\u001b[0m\n",
      "\u001b[1;32m~\\Anaconda3\\lib\\site-packages\\OpenSSL\\SSL.py\u001b[0m in \u001b[0;36mrecv_into\u001b[1;34m(self, buffer, nbytes, flags)\u001b[0m\n\u001b[0;32m   1837\u001b[0m             \u001b[0mresult\u001b[0m \u001b[1;33m=\u001b[0m \u001b[0m_lib\u001b[0m\u001b[1;33m.\u001b[0m\u001b[0mSSL_peek\u001b[0m\u001b[1;33m(\u001b[0m\u001b[0mself\u001b[0m\u001b[1;33m.\u001b[0m\u001b[0m_ssl\u001b[0m\u001b[1;33m,\u001b[0m \u001b[0mbuf\u001b[0m\u001b[1;33m,\u001b[0m \u001b[0mnbytes\u001b[0m\u001b[1;33m)\u001b[0m\u001b[1;33m\u001b[0m\u001b[1;33m\u001b[0m\u001b[0m\n\u001b[0;32m   1838\u001b[0m         \u001b[1;32melse\u001b[0m\u001b[1;33m:\u001b[0m\u001b[1;33m\u001b[0m\u001b[1;33m\u001b[0m\u001b[0m\n\u001b[1;32m-> 1839\u001b[1;33m             \u001b[0mresult\u001b[0m \u001b[1;33m=\u001b[0m \u001b[0m_lib\u001b[0m\u001b[1;33m.\u001b[0m\u001b[0mSSL_read\u001b[0m\u001b[1;33m(\u001b[0m\u001b[0mself\u001b[0m\u001b[1;33m.\u001b[0m\u001b[0m_ssl\u001b[0m\u001b[1;33m,\u001b[0m \u001b[0mbuf\u001b[0m\u001b[1;33m,\u001b[0m \u001b[0mnbytes\u001b[0m\u001b[1;33m)\u001b[0m\u001b[1;33m\u001b[0m\u001b[1;33m\u001b[0m\u001b[0m\n\u001b[0m\u001b[0;32m   1840\u001b[0m         \u001b[0mself\u001b[0m\u001b[1;33m.\u001b[0m\u001b[0m_raise_ssl_error\u001b[0m\u001b[1;33m(\u001b[0m\u001b[0mself\u001b[0m\u001b[1;33m.\u001b[0m\u001b[0m_ssl\u001b[0m\u001b[1;33m,\u001b[0m \u001b[0mresult\u001b[0m\u001b[1;33m)\u001b[0m\u001b[1;33m\u001b[0m\u001b[1;33m\u001b[0m\u001b[0m\n\u001b[0;32m   1841\u001b[0m \u001b[1;33m\u001b[0m\u001b[0m\n",
      "\u001b[1;31mKeyboardInterrupt\u001b[0m: "
     ]
    }
   ],
   "source": [
    "from requests import get\n",
    "import bs4\n",
    "import csv\n",
    "\n",
    "csv_file=open('dont v2.csv','a',encoding='utf-8')\n",
    "csv_writer=csv.writer(csv_file,quoting=csv.QUOTE_ALL)\n",
    "\n",
    "with open('didnt_work_urls.txt') as file:\n",
    "    urls = file.readlines()\n",
    "count=31\n",
    "\n",
    "def join_the_times():\n",
    "    for_removal=[]\n",
    "    for i in word_copy:\n",
    "        if (i.startswith('Temple Timings')):\n",
    "            place=word.index(i)\n",
    "            tttt =' '.join(word[word.index(i) : word.index(word_copy[-1])])\n",
    "            for u in range(word.index(i),word.index(word_copy[-1])):\n",
    "                for_removal.append(word[u])                                                                                       \n",
    "            for i in for_removal:\n",
    "                word_copy.remove(i)\n",
    "            word_copy.insert(place,tttt)\n",
    "for url in urls[31:]:\n",
    "    \n",
    "    print(f'{count}th url')\n",
    "    res = get(url[:-1])\n",
    "    response = bs4.BeautifulSoup(res.text, 'html.parser')\n",
    "    # print(response.prettify())\n",
    "    \n",
    "    lppp=[]\n",
    "    heading=response.find('h1', class_='entry-title').text\n",
    "    # matter=response.find('div',class_='entry-summary')\n",
    "    # with open('bla.txt','w') as fi:\n",
    "    # for i in matter.findAll('p'):\n",
    "    #     print(i.text,'\\n')\n",
    "    #     lppp.append(i.text)\n",
    "    # joined_word=' '.join(lppp)\n",
    "    # word=joined_word.replace('\\t',' ').split('\\n')\n",
    "    # word_copy=word\n",
    "    # print(word)\n",
    "#----------------------------------------------------------------------------------------\n",
    "    matter=response.find('div',class_='entry-summary')\n",
    "    for i in matter.findAll('p'):\n",
    "        # print(i.text)\n",
    "        # luuu=i.text.replace('\\t',' ').split('\\n')\n",
    "        lppp.append(i.text)\n",
    "    joined_word=' '.join(lppp)\n",
    "    word=joined_word.replace('\\t',' ').split('\\n')\n",
    "    word_copy=word\n",
    "    # print(word)\n",
    "    lww=[]\n",
    "    testing_for_missing=[]\n",
    "    fixed=['Locality/village','District','State','Country', 'Nearest City/Town',  'Best Season To Visit','Languages','Temple Timings', 'Photography']\n",
    "\n",
    "#-----------------------------------------------------------------------------------------------------------------------\n",
    "\n",
    "\n",
    "    # for_removal=[]\n",
    "    # for i in word_copy:\n",
    "    #     if (i.endswith('Morning')):\n",
    "    #         print(i)\n",
    "    #             # Temple Timings : Morning\n",
    "    #         place=word.index(i)\n",
    "    #         tttt =' '.join(word[word.index(i) : word.index(i)+3])\n",
    "    #         for u in range(word.index(i),word.index(i)+3):\n",
    "    #             # print(word[u])\n",
    "    #             for_removal.append(word[u])\n",
    "    #         for i in for_removal:\n",
    "    #             word_copy.remove(i)\n",
    "    #         word_copy.insert(place,tttt)\n",
    "\n",
    "\n",
    "#-----------------------------------------------------------------------------------------------------------------------\n",
    "    for i in word_copy:\n",
    "        # print(i)\n",
    "        lww.append(i)\n",
    "        if ':' in i:\n",
    "            # print(i.split(':'))\n",
    "            lww.append(i.split(':')[1].strip())\n",
    "            testing_for_missing.append(i.split(':')[0].strip())\n",
    "            # join_the_times()\n",
    "\n",
    "    print(count,'length is',len(lww))\n",
    "    loo=[]\n",
    "    try:\n",
    "        loo2=[]\n",
    "        for i in response.find('div',class_='row product-page'):\n",
    "            loo2.append(i.text)\n",
    "    except:\n",
    "        pass\n",
    "    try:\n",
    "        for i in response.find('div',class_='panel active'):\n",
    "    #   print(i.text)\n",
    "            loo.append(i.text)\n",
    "    except:\n",
    "        pass\n",
    "    # file.write(i.text)\n",
    "    try:\n",
    "        for j in i.findAll('p'):\n",
    "            loo.append(j.text)\n",
    "    except:\n",
    "        pass\n",
    "    try:\n",
    "        csv_writer.writerow([heading]+lww+[' '.join(loo2) + ' '.join(loo)])\n",
    "    except:\n",
    "        csv_writer.writerow([heading]+lww+[' '.join(loo)])\n",
    "# print(len(loo))\n",
    "# \n",
    "# \n",
    "    count+=1\n",
    "# print((lww))\n",
    "# print([heading]+lww+[' '.join(loo)])\n",
    "csv_file.close()\n",
    "\n",
    "\n"
   ]
  },
  {
   "cell_type": "code",
   "execution_count": 2,
   "metadata": {},
   "outputs": [],
   "source": [
    "from requests import get\n",
    "import bs4\n",
    "with open('didnt_work_urls.txt') as file:\n",
    "    urls = file.readlines()\n",
    "url=urls[31]\n",
    "res = get(url[:-1])\n",
    "response = bs4.BeautifulSoup(res.text, 'html.parser')"
   ]
  },
  {
   "cell_type": "code",
   "execution_count": 15,
   "metadata": {},
   "outputs": [],
   "source": [
    "import csv\n",
    "csv_file=open('dont v2.csv','a',encoding='utf-8')\n",
    "csv_writer=csv.writer(csv_file,quoting=csv.QUOTE_ALL)"
   ]
  },
  {
   "cell_type": "code",
   "execution_count": 7,
   "metadata": {
    "tags": []
   },
   "outputs": [
    {
     "output_type": "stream",
     "name": "stdout",
     "text": "['Temple Timing', ' Sri Aandu Alakkum Ayan Perumal Temple is open from 7.00 a.m. to 12.30 a.m. and from 4.00 p.m. to 8.00 p.m.']\n"
    }
   ],
   "source": [
    "lppp=[]\n",
    "heading=response.find('h1', class_='entry-title').text\n",
    "# matter=response.find('div',class_='entry-summary')\n",
    "# with open('bla.txt','w') as fi:\n",
    "# for i in matter.findAll('p'):\n",
    "#     print(i.text,'\\n')\n",
    "#     lppp.append(i.text)\n",
    "# joined_word=' '.join(lppp)\n",
    "# word=joined_word.replace('\\t',' ').split('\\n')\n",
    "# word_copy=word\n",
    "# print(word)\n",
    "#----------------------------------------------------------------------------------------\n",
    "matter=response.find('div',class_='entry-summary')\n",
    "for i in matter.findAll('p'):\n",
    "    # print(i.text)\n",
    "    # luuu=i.text.replace('\\t',' ').split('\\n')\n",
    "    lppp.append(i.text)\n",
    "joined_word=' '.join(lppp)\n",
    "word=joined_word.replace('\\t',' ').split('\\n')\n",
    "word_copy=word\n",
    "# print(word)\n",
    "lww=[]\n",
    "testing_for_missing=[]\n",
    "fixed=['Locality/village','District','State','Country', 'Nearest City/Town',  'Best Season To Visit','Languages','Temple Timings', 'Photography']\n",
    "\n",
    "#----------------------------------------------------------------------\n",
    "\n",
    "#----------------------------------------------------------------------\n",
    "for i in word_copy:\n",
    "    # print(i)\n",
    "    lww.append(i)\n",
    "    if ':' in i:\n",
    "        # print(i.split(':'))\n",
    "        lww.append(i.split(' :')[1].strip())\n",
    "        testing_for_missing.append(i.split(' :')[0].strip())\n",
    "        # join_the_times()\n",
    "\n",
    "    \n",
    "#     try:\n",
    "#         lww.append(i.split(' :')[1].strip())\n",
    "#         testing_for_missing.append(i.split(' :')[0].strip())\n",
    "#         join_the_times()\n",
    "#     except IndexError:\n",
    "#         lww.append(i.split(':')[1].strip())\n",
    "#         testing_for_missing.append(i.split(':')[0].strip())\n",
    "#         join_the_times()\n",
    "#     except:\n",
    "#         pass\n",
    "got=set(testing_for_missing)\n",
    "test_result=list(set(fixed)-got)\n",
    "result=[]\n",
    "\n",
    "# print(test_result)\n",
    "# lww"
   ]
  },
  {
   "cell_type": "code",
   "execution_count": 21,
   "metadata": {},
   "outputs": [],
   "source": [
    "word_copy\n",
    "count=0"
   ]
  },
  {
   "cell_type": "code",
   "execution_count": 23,
   "metadata": {},
   "outputs": [],
   "source": [
    "# testing_for_missing.append('Temple Timings')\n",
    "got=set(testing_for_missing)\n",
    "test_result=list(set(fixed)-got)\n",
    "result=[]"
   ]
  },
  {
   "cell_type": "code",
   "execution_count": 24,
   "metadata": {
    "tags": []
   },
   "outputs": [
    {
     "output_type": "stream",
     "name": "stdout",
     "text": "0 length is 99\n"
    }
   ],
   "source": [
    "for i in fixed:\n",
    "    if i in test_result:\n",
    "        result.append(i)\n",
    "\n",
    "    # print('result',result)\n",
    "    # print('fixed',fixed)\n",
    "\n",
    "    if len(result) > 0:\n",
    "        for i in list(result):\n",
    "            lww.insert(fixed.index(i),'')\n",
    "\n",
    "    # print(lww)\n",
    "print(count,'length is',len(lww))\n",
    " "
   ]
  },
  {
   "cell_type": "code",
   "execution_count": 32,
   "metadata": {},
   "outputs": [
    {
     "output_type": "execute_result",
     "data": {
      "text/plain": "['Temple Timings']"
     },
     "metadata": {},
     "execution_count": 32
    }
   ],
   "source": [
    "lww=ldhhhd[:]"
   ]
  },
  {
   "cell_type": "code",
   "execution_count": 33,
   "metadata": {},
   "outputs": [],
   "source": [
    "    loo=[]\n",
    "    try:\n",
    "        loo2=[]\n",
    "        for i in response.find('div',class_='row product-page'):\n",
    "            loo2.append(i.text)\n",
    "    except:\n",
    "        pass\n",
    "    try:\n",
    "        for i in response.find('div',class_='panel active'):\n",
    "    #   print(i.text)\n",
    "            loo.append(i.text)\n",
    "    except:\n",
    "        pass\n",
    "    # file.write(i.text)\n",
    "    try:\n",
    "        for j in i.findAll('p'):\n",
    "            loo.append(j.text)\n",
    "    except:\n",
    "        pass\n",
    "    try:\n",
    "        csv_writer.writerow([heading]+lww+[' '.join(loo2) + ' '.join(loo)])\n",
    "    except:\n",
    "        csv_writer.writerow([heading]+lww+[' '.join(loo)])\n",
    "# print(len(loo))\n",
    "# \n",
    "# \n",
    "    count+=1\n",
    "# print((lww))\n",
    "# print([heading]+lww+[' '.join(loo)])\n",
    "csv_file.close()\n"
   ]
  },
  {
   "cell_type": "code",
   "execution_count": 9,
   "metadata": {},
   "outputs": [
    {
     "output_type": "execute_result",
     "data": {
      "text/plain": "'Pashupatinath Temple, Mandsaur'"
     },
     "metadata": {},
     "execution_count": 9
    }
   ],
   "source": [
    "heading=response.find('h1', class_='entry-title').text\n",
    "heading"
   ]
  },
  {
   "cell_type": "code",
   "execution_count": 14,
   "metadata": {
    "tags": []
   },
   "outputs": [
    {
     "output_type": "stream",
     "name": "stdout",
     "text": "By Road\nUkhimath is situated on the road that connects Guptakshi to Gopeshwar. Buses are available easily from Delhi ISBT Kashmiri Gate to Rishikesh. Also, from Haridwar, Dehradun and Tehri, there are equally sufficient road transport facilities to reach the site.\nBy Rail\nThe nearest rail head is the Rishikesh Railway station.\nBy Air\nThe nearest airport is the Jolly Grant Airport at Dehradun.\n"
    },
    {
     "output_type": "error",
     "ename": "AttributeError",
     "evalue": "'NavigableString' object has no attribute 'text'",
     "traceback": [
      "\u001b[1;31m---------------------------------------------------------------------------\u001b[0m",
      "\u001b[1;31mAttributeError\u001b[0m                            Traceback (most recent call last)",
      "\u001b[1;32m<ipython-input-14-3a6986d00b55>\u001b[0m in \u001b[0;36m<module>\u001b[1;34m\u001b[0m\n\u001b[0;32m      1\u001b[0m \u001b[1;32mfor\u001b[0m \u001b[0mi\u001b[0m \u001b[1;32min\u001b[0m \u001b[0mresponse\u001b[0m\u001b[1;33m.\u001b[0m\u001b[0mfind\u001b[0m\u001b[1;33m(\u001b[0m\u001b[1;34m'div'\u001b[0m\u001b[1;33m,\u001b[0m\u001b[0mclass_\u001b[0m\u001b[1;33m=\u001b[0m\u001b[1;34m'panel active'\u001b[0m\u001b[1;33m)\u001b[0m\u001b[1;33m:\u001b[0m\u001b[1;33m\u001b[0m\u001b[1;33m\u001b[0m\u001b[0m\n\u001b[1;32m----> 2\u001b[1;33m       \u001b[0mprint\u001b[0m\u001b[1;33m(\u001b[0m\u001b[0mi\u001b[0m\u001b[1;33m.\u001b[0m\u001b[0mtext\u001b[0m\u001b[1;33m)\u001b[0m\u001b[1;33m\u001b[0m\u001b[1;33m\u001b[0m\u001b[0m\n\u001b[0m",
      "\u001b[1;32m~\\Anaconda3\\lib\\site-packages\\bs4\\element.py\u001b[0m in \u001b[0;36m__getattr__\u001b[1;34m(self, attr)\u001b[0m\n\u001b[0;32m    869\u001b[0m             raise AttributeError(\n\u001b[0;32m    870\u001b[0m                 \"'%s' object has no attribute '%s'\" % (\n\u001b[1;32m--> 871\u001b[1;33m                     self.__class__.__name__, attr))\n\u001b[0m\u001b[0;32m    872\u001b[0m \u001b[1;33m\u001b[0m\u001b[0m\n\u001b[0;32m    873\u001b[0m     \u001b[1;32mdef\u001b[0m \u001b[0moutput_ready\u001b[0m\u001b[1;33m(\u001b[0m\u001b[0mself\u001b[0m\u001b[1;33m,\u001b[0m \u001b[0mformatter\u001b[0m\u001b[1;33m=\u001b[0m\u001b[1;34m\"minimal\"\u001b[0m\u001b[1;33m)\u001b[0m\u001b[1;33m:\u001b[0m\u001b[1;33m\u001b[0m\u001b[1;33m\u001b[0m\u001b[0m\n",
      "\u001b[1;31mAttributeError\u001b[0m: 'NavigableString' object has no attribute 'text'"
     ]
    }
   ],
   "source": [
    "for i in response.find('div',class_='panel active'):\n",
    "      print(i.text)"
   ]
  },
  {
   "cell_type": "code",
   "execution_count": 12,
   "metadata": {
    "tags": []
   },
   "outputs": [
    {
     "output_type": "stream",
     "name": "stdout",
     "text": "Locality/village :\tMandsaur\nState :\tMadhya Pradesh\nCountry :\tIndia\nNearest City/Town :\tBolkheda\nBest Season To Visit :\tOctober to March\nLanguages :\tHindi& English\nTemple Timings : 6 AM to 8 PM\nPhotography :\tNot Allowed\n"
    }
   ],
   "source": [
    "matter=response.find('div',class_='entry-summary')\n",
    "for i in matter.findAll('p'):\n",
    "    print(i.text)"
   ]
  },
  {
   "cell_type": "code",
   "execution_count": 8,
   "metadata": {
    "tags": []
   },
   "outputs": [
    {
     "output_type": "stream",
     "name": "stdout",
     "text": "Pashupatinath Temple, Mandsaur, Madhya Pradesh Pashupatinath Temple in Mandsaur, India is a famous Hindu temple of Lord Pashupatinath with less importance than that of mythologically sacred Pashupatinath of Kathmandu Nepal. It is situated on the banks of the Shivna River. Pashupatinath Temple is one of the prominent shrines in the city of Mandsaur in Madhya Pradesh. Lord Shiva in the form of Pashupatinath is the principal deity here. The highlight is a unique Shiv Ling with eight faces of Lord Shiva. The eight-faced idol is still the same as it was left by the sculptors in that era, the lower faces have been partially worked upon and they are not as clear as the upper four faces. The shrine has four doors in four directions.The Shiv Ling in the temple is 8′ x 10.5′ and weighs 4.6 tons. The temple built on the river is 90 feet long, 30 feet wide and 101 feet tall. On top of the temple is a 100 kg gold plated pitcher. Every monsoon the water level in the Shivna river rises to touch the holy Shiv Ling of lord Shiva. This phenomenon is termed as “Jalaabhishek” which means worshiping god through the water.Gradually the idols of other Hindu gods such as goddess Maata Paarvati,  Ganesha,  Kartikeya, goddess Maata Ganga,  Vishnu, goddess Maata Lakshmi and Saint  Adyashankaracharya were established within the temple with a huge idol of Nandi Maharaaj facing the west face of the idol Lord Pashupatinath with eight-faced.According to the Hindu mythology, the temple of Pashupatinath was constructed many centuries ago. It is said that the Shiv Ling emerged from the waters of the Shivna on Monday, which is considered as an auspicious day by the devotees of Lord Shiva. On Sunday, it reached the Tapeshwar Ghat of the river and was placed there. On Monday, after exactly, 21 years, 5 months and 4 days it was incarnated. The day of incarnation of the idol is celebrated as a Mela in the area surrounding the temple.The Temple is open from 06:00 AM to 8:00 PM (All days of the week). The climate condition in Mandsaur is changeable. It means, during winters temperature dropping down to 32 to 14 degree Celsius while in summers it rises to 34 to 44 degree Celsius. However, monsoon occurs especially in the month of July that offers good rainfall. So the best time to get there is from October to March.How to ReachVideosBy RoadMandsaur town is well connected with all other neighboring cities or towns of the state by roads. Hence, visitors or devotees can easily get road-transportation to reach Pashupatinath temple.By RailThe nearest railway station is Mandsaur railway station that connects the town to all other parts of the country. So from the railway station visitors or pilgrims can hire a bus, taxi, and cabs to reach Pashupatinath temple which is situated only 3 km far from railway station.By AirSome of the nearest airports to Mandsaur town are Dabok airport only 148 km, Indore airport 188 km and Bhopal airport 279 km distance from Pashupatinath temple. Hence, form airport visitors or pilgrims can hire bus, cars and taxi to reach the temple.  
    ],
   "source": [
    "for i in response.find('div',class_='row product-page'):\n",
    "    print(i.text)"
   ]
  },
  {
   "cell_type": "code",
   "execution_count": 2,
   "metadata": {
    "tags": []
   },
   "outputs": [
    {
     "output_type": "stream",
     "name": "stdout",
     "text": "84\n"
    }
   ],
   "source": [
    "with open('didnt_work_urls.txt','r') as file:\n",
    "    length=file.readlines()\n",
    "print(len(length))"
   ]
  },
  {
   "cell_type": "code",
   "execution_count": 169,
   "metadata": {
    "tags": []
   },
   "outputs": [
    {
     "output_type": "stream",
     "name": "stdout",
     "text": "Temple Timings : • MON TO FRI – 8:00 AM TO 12:00 NOON and 4:00 PM TO 8:00 PM.\n['Temple Timings : • MON TO FRI – 8:00 AM TO 12:00 NOON and 4:00 PM TO 8:00 PM.', '• SAT AND SUN – 8:00 AM TO 8:00 PM.']\nTemple Timings : • MON TO FRI – 8:00 AM TO 12:00 NOON and 4:00 PM TO 8:00 PM.\n• SAT AND SUN – 8:00 AM TO 8:00 PM.\n"
    }
   ],
   "source": [
    "for_removal=[]\n",
    "for i in word_copy:\n",
    "    if (i.startswith('Temple Timings')):\n",
    "        print(i)\n",
    "        for u in range(word.index(i),word.index(word_copy[-1])):\n",
    "            for_removal.append(word[u])                                                                                       \n",
    "        for i in for_removal:\n",
    "            # print(i)\n",
    "            word_copy.remove(i)\n",
    "        word_copy.insert(place,tttt)\n"
   ]
  },
  {
   "cell_type": "code",
   "execution_count": 160,
   "metadata": {
    "tags": []
   },
   "outputs": [],
   "source": [
    "for_removal=[]\n",
    "for i in word_copy:\n",
    "    if (i.startswith('Temple Timings')):\n",
    "        # print(i)\n",
    "            # Temple Timings : Morning\n",
    "        place=word.index(i)\n",
    "        tttt =' '.join(word[word.index(i) : word.index(word_copy[-1])])\n",
    "        for u in range(word.index(i),word.index(word_copy[-1])):\n",
    "            print('oz',word[u])\n",
    "            for_removal.append(word[u])\n",
    "            for i in for_removal:\n",
    "                print(i)\n",
    "                # word_copy.remove(i)\n",
    "        # word_copy.insert(place,tttt)\n",
    "# print(for_removal)\n",
    "# print(word_copy)"
   ]
  },
  {
   "cell_type": "code",
   "execution_count": 129,
   "metadata": {
    "tags": []
   },
   "outputs": [
    {
     "output_type": "execute_result",
     "data": {
      "text/plain": "['Locality/village : Minto',\n 'State : Sydney',\n 'Country : Australia',\n 'Nearest City/Town : New South Wales',\n 'Best Season To Visit : All',\n 'Languages : Hindi & English',\n 'Temple Timings : • MON TO FRI – 8:00 AM TO 12:00 NOON and 4:00 PM TO 8:00 PM.',\n '• SAT AND SUN – 8:00 AM TO 8:00 PM.',\n 'Photography : Not Allowed']"
     },
     "metadata": {},
     "execution_count": 129
    }
   ],
   "source": [
    "# print(word)\n",
    "# print(word_copy)\n",
    "for_removal=[]\n",
    "for i in word_copy:\n",
    "    if (i.endswith('Morning')):\n",
    "        print(i)\n",
    "            # Temple Timings : Morning\n",
    "        place=word.index(i)\n",
    "        tttt =' '.join(word[word.index(i) : word.index(i)+3])\n",
    "        for u in range(word.index(i),word.index(i)+3):\n",
    "            # print(word[u])\n",
    "            for_removal.append(word[u])\n",
    "            for i in for_removal:\n",
    "                word_copy.remove(i)\n",
    "        word_copy.insert(place,tttt)\n",
    "word_copy\n"
   ]
  },
  {
   "cell_type": "code",
   "execution_count": 82,
   "metadata": {
    "tags": []
   },
   "outputs": [
    {
     "output_type": "stream",
     "name": "stdout",
     "text": "Locality/village : Old Toongabbie\nState : Sydney\nCountry : Australia\nNearest City/Town : New South Wales\nBest Season To Visit : All\nLanguages : Hindi & English\nTemple Timings : Morning\n6.30am to 8am Evening\n5.30pm to 8pm\nPhotography : Not Allowed\n"
    }
   ],
   "source": [
    "\n",
    "    lppp=[]\n",
    "    heading=response.find('h1', class_='entry-title').text\n",
    "    # matter=response.find('div',class_='entry-summary')\n",
    "    # with open('bla.txt','w') as fi:\n",
    "    # for i in matter.findAll('p'):\n",
    "    #     print(i.text,'\\n')\n",
    "    #     lppp.append(i.text)\n",
    "    # joined_word=' '.join(lppp)\n",
    "    # word=joined_word.replace('\\t',' ').split('\\n')\n",
    "    # word_copy=word\n",
    "    # print(word)\n",
    "#----------------------------------------------------------------------------------------\n",
    "    matter=response.find('div',class_='entry-summary')\n",
    "    for i in matter.findAll('p'):\n",
    "        # print(i.text)\n",
    "        # luuu=i.text.replace('\\t',' ').split('\\n')\n",
    "        lppp.append(i.text)\n",
    "    joined_word=' '.join(lppp)\n",
    "    word_copy=joined_word.replace('\\t',' ').split('\\n')\n",
    "    # word_copy=word\n",
    "    # print(word)\n",
    "    lww=[]\n",
    "    testing_for_missing=[]\n",
    "    fixed=['Locality/village','District','State','Country', 'Nearest City/Town',  'Best Season To Visit','Languages','Temple Timings', 'Photography']\n",
    "    \n",
    "    for i in word_copy:\n",
    "        print(i)\n",
    "        \n",
    "        # try:\n",
    "        #     lww.append(i.split(' :')[1].strip())\n",
    "        #     testing_for_missing.append(i.split(' :')[0].strip())\n",
    "        # except:\n",
    "        #     lww.append(i.split(':')[1].strip())\n",
    "        #     testing_for_missing.append(i.split(':')[0].strip())\n",
    "    got=set(testing_for_missing)\n",
    "    test_result=list(set(fixed)-got)\n",
    "    result=[]\n",
    "    # print(test_result)\n",
    "    for i in fixed:\n",
    "        if i in test_result:\n",
    "            result.append(i)\n",
    "\n",
    "    # print('result',result)\n",
    "    # print('fixed',fixed)\n",
    "    # lww.insert(fixed.index(list(result)[0]),'')\n",
    "    \n",
    "    if len(result) > 0:\n",
    "        for i in list(result):\n",
    "            lww.insert(fixed.index(i),'')\n",
    "            # print(i)\n",
    "            # lww.insert(fixed.index(i),'')\n",
    "            # print(i)\n",
    "            # if fixed[5] == i:\n",
    "            #     lww.insert(fixed.index(i),'')\n",
    "                \n",
    "            # else:\n",
    "            # lww.insert(fixed.index(i),'')    \n",
    "            # print(lww)\n",
    "#---------------------------------------------------------------------------------------\n",
    "\n",
    "    # lww=[]\n",
    "    # for i in word_copy:\n",
    "    #     lww.append(i.split(' :')[1].strip())\n",
    "\n",
    "    # print(lww)\n",
    "    print(count,'length is',len(lww))\n",
    "    loo=[]\n",
    "    for i in response.find('div',class_='panel active'):\n",
    "    #   print(i.text)\n",
    "        loo.append(i.text)\n",
    "    # file.write(i.text)\n",
    "    for j in i.findAll('p'):\n",
    "        loo.append(j.text)\n",
    "    \n",
    "    count+=1\n",
    "# print(len(loo))\n",
    "# \n",
    "# \n",
    "    csv_writer.writerow([heading]+lww+[' '.join(loo)])\n",
    "# print((lww))\n",
    "# print([heading]+lww+[' '.join(loo)])\n",
    "csv_file.close()\n"
   ]
  },
  {
   "cell_type": "code",
   "execution_count": 174,
   "metadata": {},
   "outputs": [
    {
     "output_type": "execute_result",
     "data": {
      "text/plain": "'https://www.templepurohit.com/hindu-temple/ukhimath/\\n'"
     },
     "metadata": {},
     "execution_count": 174
    }
   ],
   "source": [
    "urls[126]"
   ]
  },
  {
   "cell_type": "code",
   "execution_count": 70,
   "metadata": {
    "tags": []
   },
   "outputs": [
    {
     "output_type": "stream",
     "name": "stdout",
     "text": "['Locality/village', 'District', 'State', 'Country', 'Nearest City/Town', 'Best Season To Visit', 'Languages', 'Temple Timings', 'Photography']\n['District', 'Nearest City/Town', 'State']\n"
    },
    {
     "output_type": "execute_result",
     "data": {
      "text/plain": "['District', 'State', 'Nearest City/Town']"
     },
     "metadata": {},
     "execution_count": 70
    }
   ],
   "source": [
    "test_result=list(result)\n",
    "print(fixed)\n",
    "result=[]\n",
    "print(test_result)\n",
    "for i in fixed:\n",
    "    if i in test_result:\n",
    "        result.append(i)\n",
    "result"
   ]
  },
  {
   "cell_type": "code",
   "execution_count": 53,
   "metadata": {},
   "outputs": [
    {
     "output_type": "execute_result",
     "data": {
      "text/plain": "'Best Season To Visit'"
     },
     "metadata": {},
     "execution_count": 53
    }
   ],
   "source": [
    "fixed[5]"
   ]
  },
  {
   "cell_type": "code",
   "execution_count": 76,
   "metadata": {
    "tags": []
   },
   "outputs": [
    {
     "output_type": "execute_result",
     "data": {
      "text/plain": "\"from requests import get\\nimport bs4\\nimport csv\\ncsv_file=open('abc.csv','a',encoding='utf-8')\\ncsv_writer=csv.writer(csv_file,quoting=csv.QUOTE_ALL)\\n\\nwith open('urls.txt') as file:\\n    urls = file.readlines()\\n# print(len(urls))\\ncount=0\\nfor url in urls[:30]:\\n    res = get(url[:-1])\\n    response = bs4.BeautifulSoup(res.text, 'html.parser')\\n    # print(response.prettify())\\n    \\n    lppp=[]\\n    heading=response.find('h1', class_='entry-title').text\\n    matter=response.find('div',class_='entry-summary')\\n    # with open('bla.txt','w') as fi:\\n    for i in matter.findAll('p'):\\n        print(i.text,'\\n')\\n        lppp.append(i.text)\\n    joined_word=' '.join(lppp)\\n    word=joined_word.replace('\\t',' ').split('\\n')\\n    word_copy=word\\n    print(word)\\n    # print(word_copy)\\n    # for_removal=[]\\n    # for i in word:\\n    #     if (i.endswith('Morning')):\\n    #         place=word.index('Temple Timings : Morning')\\n    #         tttt =' '.join(word[word.index('Temple Timings : Morning') : word.index('Temple Timings : Morning')+3])\\n    #         for u in range(word.index('Temple Timings : Morning'),word.index('Temple Timings : Morning')+3):\\n    #             # print(word[u])\\n    #             for_removal.append(word[u])\\n    #         for i in for_removal:\\n    #             word_copy.remove(i)\\n    #         word_copy.insert(place,tttt)\\n\\n\\n    lww=[]\\n    for i in word_copy:\\n        lww.append(i.split(' :')[1].strip())\\n\\n    print(lww)\\n    print(count,'length is',len(lww))\\n    loo=[]\\n    for i in response.find('div',class_='panel active'):\\n    #   print(i.text)\\n        loo.append(i.text)\\n    # file.write(i.text)\\n    for j in i.findAll('p'):\\n        loo.append(j.text)\\n    \\n    count+=1\\n# print(len(loo))\\n# \\n# \\n    csv_writer.writerow([heading]+lww+[' '.join(loo)])\\n# print((lww))\\n# print([heading]+lww+[' '.join(loo)])\\ncsv_file.close()\\n\""
     },
     "metadata": {},
     "execution_count": 76
    }
   ],
   "source": [
    "\"\"\"from requests import get\n",
    "import bs4\n",
    "import csv\n",
    "csv_file=open('abc.csv','a',encoding='utf-8')\n",
    "csv_writer=csv.writer(csv_file,quoting=csv.QUOTE_ALL)\n",
    "\n",
    "with open('urls.txt') as file:\n",
    "    urls = file.readlines()\n",
    "# print(len(urls))\n",
    "count=0\n",
    "for url in urls[:30]:\n",
    "    res = get(url[:-1])\n",
    "    response = bs4.BeautifulSoup(res.text, 'html.parser')\n",
    "    # print(response.prettify())\n",
    "    \n",
    "    lppp=[]\n",
    "    heading=response.find('h1', class_='entry-title').text\n",
    "    matter=response.find('div',class_='entry-summary')\n",
    "    # with open('bla.txt','w') as fi:\n",
    "    for i in matter.findAll('p'):\n",
    "        print(i.text,'\\n')\n",
    "        lppp.append(i.text)\n",
    "    joined_word=' '.join(lppp)\n",
    "    word=joined_word.replace('\\t',' ').split('\\n')\n",
    "    word_copy=word\n",
    "    print(word)\n",
    "    # print(word_copy)\n",
    "    # for_removal=[]\n",
    "    # for i in word:\n",
    "    #     if (i.endswith('Morning')):\n",
    "    #         place=word.index('Temple Timings : Morning')\n",
    "    #         tttt =' '.join(word[word.index('Temple Timings : Morning') : word.index('Temple Timings : Morning')+3])\n",
    "    #         for u in range(word.index('Temple Timings : Morning'),word.index('Temple Timings : Morning')+3):\n",
    "    #             # print(word[u])\n",
    "    #             for_removal.append(word[u])\n",
    "    #         for i in for_removal:\n",
    "    #             word_copy.remove(i)\n",
    "    #         word_copy.insert(place,tttt)\n",
    "\n",
    "\n",
    "    lww=[]\n",
    "    for i in word_copy:\n",
    "        lww.append(i.split(' :')[1].strip())\n",
    "\n",
    "    print(lww)\n",
    "    print(count,'length is',len(lww))\n",
    "    loo=[]\n",
    "    for i in response.find('div',class_='panel active'):\n",
    "    #   print(i.text)\n",
    "        loo.append(i.text)\n",
    "    # file.write(i.text)\n",
    "    for j in i.findAll('p'):\n",
    "        loo.append(j.text)\n",
    "    \n",
    "    count+=1\n",
    "# print(len(loo))\n",
    "# \n",
    "# \n",
    "    csv_writer.writerow([heading]+lww+[' '.join(loo)])\n",
    "# print((lww))\n",
    "# print([heading]+lww+[' '.join(loo)])\n",
    "csv_file.close()\n",
    "\"\"\""
   ]
  },
  {
   "cell_type": "code",
   "execution_count": 15,
   "metadata": {
    "tags": []
   },
   "outputs": [
    {
     "output_type": "stream",
     "name": "stdout",
     "text": "['Bhadrachalam', 'Telangana', 'India', 'Bhadrachalam', 'All', 'Telugu & English', 'Temple is opened from 4 AM to 12.00 PM and 3 PM to 9 PM.', 'Not Allowed']\n"
    }
   ],
   "source": [
    "lww=[]\n",
    "for i in word_copy:\n",
    "    lww.append(i.split(' :')[1].strip())\n",
    "    # print(i)\n",
    "print(lww)\n",
    "    "
   ]
  },
  {
   "cell_type": "code",
   "execution_count": 13,
   "metadata": {},
   "outputs": [
    {
     "output_type": "execute_result",
     "data": {
      "text/plain": "'https://www.templepurohit.com/hindu-temple/sri-rajaganapathi-temple-salem/\\n'"
     },
     "metadata": {},
     "execution_count": 13
    }
   ],
   "source": [
    "urls[24]"
   ]
  },
  {
   "cell_type": "code",
   "execution_count": null,
   "metadata": {},
   "outputs": [],
   "source": []
  },
  {
   "cell_type": "code",
   "execution_count": 18,
   "metadata": {
    "tags": []
   },
   "outputs": [
    {
     "output_type": "stream",
     "name": "stdout",
     "text": "//www.templepurohit.com/wp-content/plugins/a3-lazy-load/assets/images/lazy_placeholder.gif\n\n//www.templepurohit.com/wp-content/plugins/a3-lazy-load/assets/images/lazy_placeholder.gif\n"
    }
   ],
   "source": [
    "print(response.find('div',class_='page-inner').img['src'])\n",
    "print()\n",
    "print(response.find('div',class_='panel active').figure.a.img['src'])"
   ]
  },
  {
   "cell_type": "code",
   "execution_count": 129,
   "metadata": {
    "tags": []
   },
   "outputs": [
    {
     "output_type": "stream",
     "name": "stdout",
     "text": "['Minto', 'Sydney', 'Australia', 'New South Wales', 'All', 'Hindi & English', '• MON TO FRI – 8', '00 AM TO 8', 'Not Allowed']\n['Mukti-Gupteshwar Mandir, Minto, NSW', 'Minto', 'Sydney', 'Australia', 'New South Wales', 'All', 'Hindi & English', '• MON TO FRI – 8', '00 AM TO 8', 'Not Allowed', 'In the Sanctum there is a 10 metre deep ‘vault’ which comprises 2 million handwritten notes each saying ‘Om Namah Shivaya’ from devotees around the world. There is water from 81 rivers including major rivers from Australia and from five oceans, and eight precious metals. Good wishes from holy men and other dignitaries around the world have also been placed in the ‘vault’. Each morning a Brahmin priest conducts the ritual sustenance of the 13th Jyotirlingam, 12 replicas of other Jyotirlinga, 108 Rudra Shivas and 1008 Sahastra nama Lord Shivas. There are three other mandirs besides the Mahadev’s mandir. These are the Matha Mandir, Ramparivar Mandir and Lord Ganesh Mandir.\\n•\\tConstruction began in September 1997.\\n•\\tThe 13th Jyotirlinga was consecrated on the day of Mahashivratri on 14 February 1999.\\n•\\tApproximately 1450 square metres of floor area is built underground. The only structures above ground are the amenities building and Lord Ganesh’s mandir which is built in the middle of the Mandir ‘sarovar’ (dam).\\n•\\t65,000 cubic metres of earth was moved to build the subterranean structures.\\n•\\tTotal concrete used: (a) High-strength concrete (32 Mpa) 860 cubic metres, and (b) Normal concrete (20 Mpa) 380 cubic metres.\\n•\\tTen precast concrete elliptical arches were laid for the main hall of Lord Shiva each weighing 18 tons. A 130 ton capacity crane was required to erect the arches and the operation took nearly 10 hours.\\n•\\t230 tons of reinforcing steel was used. The total length of the accessway and driveway is 350 metres.\\n•\\tWhen full, the dam holds 4.5 million litres of water. The dam is 4.0 metres deep at its centre.\\n•\\tThe dam required approximately 30,000 cubic metres of earth to build its embankment. The maximum height of the embankment is 9.0 metres from natural ground.\\n•\\t4500 trees and shrubs have been planted throughout to beautify the site.\\n•\\tTotal cost of the project to date is approximately $AUD 5.0 million.']\n"
    }
   ],
   "source": [
    "import csv\n",
    "\n",
    "csv_file=open('abc.csv','a')\n",
    "csv_writer=csv.writer(csv_file,quoting=csv.QUOTE_ALL)\n",
    "lppp=[]\n",
    "heading=response.find('h1', class_='entry-title').text\n",
    "matter=response.find('div',class_='entry-summary')\n",
    "# with open('bla.txt','w') as fi:\n",
    "for i in matter.findAll('p'):\n",
    "    # print(i.text,'\\n')\n",
    "    lppp.append(i.text)\n",
    "joined_word=' '.join(lppp)\n",
    "word=joined_word.replace('\\t',' ').split('\\n')\n",
    "word_copy=word\n",
    "# print(word_copy)\n",
    "for_removal=[]\n",
    "for i in word:\n",
    "    if (i.endswith('Morning')):\n",
    "        place=word.index('Temple Timings : Morning')\n",
    "        tttt =' '.join(word[word.index('Temple Timings : Morning') : word.index('Temple Timings : Morning')+3])\n",
    "        for u in range(word.index('Temple Timings : Morning'),word.index('Temple Timings : Morning')+3):\n",
    "            # print(word[u])\n",
    "            for_removal.append(word[u])\n",
    "        for i in for_removal:\n",
    "            word_copy.remove(i)\n",
    "        word_copy.insert(place,tttt)\n",
    "\n",
    "\n",
    "lww=[]\n",
    "for i in word_copy:\n",
    "    lww.append(i.split(' :')[1].strip())\n",
    "print(lww)\n",
    "loo=[]\n",
    "for i in response.find('div',class_='panel active'):\n",
    "#   print(i.text)\n",
    "  loo.append(i.text)\n",
    "  # file.write(i.text)\n",
    "  for j in i.findAll('p'):\n",
    "      loo.append(j.text)\n",
    "# print(len(loo))\n",
    "# \n",
    "# \n",
    "csv_writer.writerow([heading]+lww+[' '.join(loo)])\n",
    "# print((lww))\n",
    "print([heading]+lww+[' '.join(loo)])\n",
    "csv_file.close()\n",
    "#       # fi.write(i.text)\n",
    "#\n",
    "# if (word.startswith('Morning')\n",
    "# luuu= .split('\\n')\n",
    "# print(luuu)\n",
    "# print(word)\n"
   ]
  },
  {
   "cell_type": "code",
   "execution_count": 109,
   "metadata": {},
   "outputs": [
    {
     "output_type": "error",
     "ename": "IndexError",
     "evalue": "list index out of range",
     "traceback": [
      "\u001b[1;31m---------------------------------------------------------------------------\u001b[0m",
      "\u001b[1;31mIndexError\u001b[0m                                Traceback (most recent call last)",
      "\u001b[1;32m<ipython-input-109-84b43f2e7d83>\u001b[0m in \u001b[0;36m<module>\u001b[1;34m\u001b[0m\n\u001b[0;32m      2\u001b[0m \u001b[0mjsds\u001b[0m\u001b[1;33m=\u001b[0m\u001b[0mjfjf\u001b[0m\u001b[1;33m\u001b[0m\u001b[1;33m\u001b[0m\u001b[0m\n\u001b[0;32m      3\u001b[0m \u001b[1;32mfor\u001b[0m \u001b[0mi\u001b[0m \u001b[1;32min\u001b[0m \u001b[1;33m[\u001b[0m\u001b[1;36m1\u001b[0m\u001b[1;33m,\u001b[0m\u001b[1;36m2\u001b[0m\u001b[1;33m,\u001b[0m\u001b[1;36m3\u001b[0m\u001b[1;33m]\u001b[0m\u001b[1;33m:\u001b[0m\u001b[1;33m\u001b[0m\u001b[1;33m\u001b[0m\u001b[0m\n\u001b[1;32m----> 4\u001b[1;33m     \u001b[0mjsds\u001b[0m\u001b[1;33m.\u001b[0m\u001b[0mremove\u001b[0m\u001b[1;33m(\u001b[0m\u001b[0mjfjf\u001b[0m\u001b[1;33m[\u001b[0m\u001b[0mi\u001b[0m\u001b[1;33m-\u001b[0m\u001b[1;36m2\u001b[0m\u001b[1;33m]\u001b[0m\u001b[1;33m)\u001b[0m\u001b[1;33m\u001b[0m\u001b[1;33m\u001b[0m\u001b[0m\n\u001b[0m\u001b[0;32m      5\u001b[0m \u001b[0mjsds\u001b[0m\u001b[1;33m\u001b[0m\u001b[1;33m\u001b[0m\u001b[0m\n",
      "\u001b[1;31mIndexError\u001b[0m: list index out of range"
     ]
    }
   ],
   "source": [
    "jfjf=['honey','abc','hyd']\n",
    "jsds=jfjf\n",
    "for i in [1,2]:\n",
    "    jsds.remove(jfjf[i-2])\n",
    "jsds"
   ]
  },
  {
   "cell_type": "code",
   "execution_count": 71,
   "metadata": {
    "tags": []
   },
   "outputs": [
    {
     "output_type": "stream",
     "name": "stdout",
     "text": "0  Locality/village : Old Toongabbie\n1  State : Sydney\n2  Country : Australia\n3  Nearest City/Town : New South Wales\n4  Best Season To Visit : All\n5  Temple Timings : Morning\n6  5.30pm to 8pm\n"
    }
   ],
   "source": [
    "for i,j in enumerate(word_copy):\n",
    "    print(f'{i}  {j}')"
   ]
  },
  {
   "cell_type": "code",
   "execution_count": 72,
   "metadata": {},
   "outputs": [
    {
     "output_type": "execute_result",
     "data": {
      "text/plain": "True"
     },
     "metadata": {},
     "execution_count": 72
    }
   ],
   "source": [
    "'Morning jhxswjdw'.startswith('Morning')\n",
    "    "
   ]
  },
  {
   "cell_type": "code",
   "execution_count": 73,
   "metadata": {
    "tags": []
   },
   "outputs": [
    {
     "output_type": "stream",
     "name": "stdout",
     "text": "The founders of Sydney Shakti Temple, Cultural and Educational Centre are originally from the island nation of Fiji. In the late 1800s, early 1900s Fiji was inhabited by an influx of Indian immigrants, who migrated to Fiji as part of an indentured labour programme. Hailing from different areas of India, the different cultures of the immigrants melded to form a Fijian Indian culture, with influences from both North and South India, as well a number of different religious traditions. Hinduism was always present in the Fijian Indian society, and was transformed by visiting Gurukkul in the 1980s, who introduced new practices of worship to the community. Sydney Shakti Temple was established to ensure the longevity of these unique sacred practises.\nThe Hindu Society of NSW was formed in the early 90s by a group of devoted Hindus who were keen to keep their traditions alive. After the services drew too many people to host at an individual reference.\nFor many years, we held monthly prayer services in Crestwood Community Centre and hosted up to 500 people during festivals.\n2\n"
    }
   ],
   "source": [
    "with open('matter.txt','w') as file:\n",
    "    loo=[]\n",
    "    for i in response.find('div',class_='panel active'):\n",
    "        print(i.text)\n",
    "        loo.append(i.text)\n",
    "        file.write(i.text)\n",
    "        # for j in i.findAll('p'):\n",
    "            # print(j.text)\n",
    "    print(len(loo))"
   ]
  },
  {
   "cell_type": "code",
   "execution_count": 48,
   "metadata": {},
   "outputs": [],
   "source": [
    "import csv\n",
    "\n",
    "csv_file=open('abc.csv','a')\n",
    "csv_writer=csv.writer(csv_file)\n",
    "csv_writer.writerow(['Temple Name','Locality/village','District','State','Country','Nearest City/Town','Best Season To Visit,Languages','Temple Timings','Photography','Description'])\n",
    "csv_file.close()"
   ]
  },
  {
   "cell_type": "code",
   "execution_count": 36,
   "metadata": {
    "tags": []
   },
   "outputs": [
    {
     "output_type": "stream",
     "name": "stdout",
     "text": "result {'Nearest City/Town'}\nfixed ['Locality/village', 'State', 'Country', 'Nearest City/Town', 'Best Season To Visit', 'Languages', 'Temple Timings', 'Photography']\n['Uttarkashi', 'Uttarakhand', 'India', '', 'All', 'Hindi & English', '6.15 AM and 9.30 PM.', 'Not Allowed']\n"
    }
   ],
   "source": [
    "matter=response.find('div',class_='entry-summary')\n",
    "for i in matter.findAll('p'):\n",
    "    # print(i.text)\n",
    "    luuu=i.text.replace('\\t',' ').split('\\n')\n",
    "    lww=[]\n",
    "    testing_for_missing=[]\n",
    "    fixed=['Locality/village','State','Country', 'Nearest City/Town',  'Best Season To Visit','Languages','Temple Timings', 'Photography']\n",
    "    \n",
    "    for i in luuu:\n",
    "        # print(i)\n",
    "        lww.append(i.split(':')[1].strip())\n",
    "        testing_for_missing.append(i.split(' :')[0].strip())\n",
    "    got=set(testing_for_missing)\n",
    "    result=set(fixed)-got\n",
    "    print('result',result)\n",
    "    print('fixed',fixed)\n",
    "    lww.insert(fixed.index(list(result)[0]),'')\n",
    "    print(lww)\n",
    "\n",
    "    if len(result) > 0:\n",
    "        for i in list(result):\n",
    "            print(i)\n",
    "            # lww.insert(fixed.index(list(result)[0]),'')"
   ]
  },
  {
   "cell_type": "code",
   "execution_count": 40,
   "metadata": {
    "tags": []
   },
   "outputs": [
    {
     "output_type": "execute_result",
     "data": {
      "text/plain": "['']"
     },
     "metadata": {},
     "execution_count": 40
    }
   ],
   "source": [
    "lww=[]\n",
    "for i in list(result):\n",
    "            # print(i)\n",
    "            lww.insert(fixed.index(list(result)[0]),'')\n"
   ]
  },
  {
   "cell_type": "code",
   "execution_count": 41,
   "metadata": {},
   "outputs": [
    {
     "output_type": "execute_result",
     "data": {
      "text/plain": "['Country',\n 'Nearest City/Town',\n 'State',\n 'Temple Timings',\n 'Languages',\n 'Locality/village',\n 'Best Season To Visit',\n 'Photography']"
     },
     "metadata": {},
     "execution_count": 41
    }
   ],
   "source": [
    "list(fixed)"
   ]
  },
  {
   "cell_type": "code",
   "execution_count": 27,
   "metadata": {},
   "outputs": [],
   "source": [
    "fixed=['Locality/village','State','Country', 'Nearest City/Town',  'Best Season To Visit','Languages','Temple Timings', 'Photography']"
   ]
  },
  {
   "cell_type": "code",
   "execution_count": 35,
   "metadata": {
    "tags": []
   },
   "outputs": [
    {
     "output_type": "stream",
     "name": "stdout",
     "text": "e 101\nd 100\nc 99\nb 98\n"
    }
   ],
   "source": [
    "from collections import OrderedDict\n",
    "d=OrderedDict()\n",
    "for i in range(ord('e'),ord('a'),-1):\n",
    "    d[chr(i)]=i\n",
    "for i,j in d.items():\n",
    "    print(i,j)"
   ]
  },
  {
   "cell_type": "code",
   "execution_count": 1,
   "metadata": {
    "tags": []
   },
   "outputs": [
    {
     "output_type": "stream",
     "name": "stdout",
     "text": "<!DOCTYPE html>\n<html>\n <head>\n  <title>\n   Apache Tomcat - Error report\n  </title>\n  <style type=\"text/css\">\n   H1 {font-family:Tahoma,Arial,sans-serif;color:white;background-color:#525D76;font-size:22px;} H2 {font-family:Tahoma,Arial,sans-serif;color:white;background-color:#525D76;font-size:16px;} H3 {font-family:Tahoma,Arial,sans-serif;color:white;background-color:#525D76;font-size:14px;} BODY {font-family:Tahoma,Arial,sans-serif;color:black;background-color:white;} B {font-family:Tahoma,Arial,sans-serif;color:white;background-color:#525D76;} P {font-family:Tahoma,Arial,sans-serif;background:white;color:black;font-size:12px;}A {color : black;}A.name {color : black;}.line {height: 1px; background-color: #525D76; border: none;}\n  </style>\n </head>\n <body>\n  <h1>\n   HTTP Status 403 - Bots not allowed\n  </h1>\n  <div class=\"line\">\n  </div>\n  <p>\n   <b>\n    type\n   </b>\n   Status report\n  </p>\n  <p>\n   <b>\n    message\n   </b>\n   <u>\n    Bots not allowed\n   </u>\n  </p>\n  <p>\n   <b>\n    description\n   </b>\n   <u>\n    Access to the specified resource has been forbidden.\n   </u>\n  </p>\n  <hr class=\"line\"/>\n  <h3>\n   Apache Tomcat\n  </h3>\n </body>\n</html>\n"
    }
   ],
   "source": [
    "url='https://www.glassdoor.co.in/Interview/hyderabad-machine-learning-engineer-interview-questions-SRCH_IL.0,9_IM1076_KO10,35.htm'\n",
    "from requests import get\n",
    "import bs4\n",
    "import csv\n",
    "res = get(url)\n",
    "response = bs4.BeautifulSoup(res.text, 'html.parser')\n",
    "print(response.prettify())\n",
    "        "
   ]
  },
  {
   "cell_type": "code",
   "execution_count": null,
   "metadata": {},
   "outputs": [],
   "source": []
  }
 ]
}
