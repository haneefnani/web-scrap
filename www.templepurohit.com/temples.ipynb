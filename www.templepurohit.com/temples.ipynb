{
 "metadata": {
  "language_info": {
   "codemirror_mode": {
    "name": "ipython",
    "version": 3
   },
   "file_extension": ".py",
   "mimetype": "text/x-python",
   "name": "python",
   "nbconvert_exporter": "python",
   "pygments_lexer": "ipython3",
   "version": 3
  },
  "orig_nbformat": 2,
  "kernelspec": {
   "name": "python_defaultSpec_1596811265165",
   "display_name": "Python 3.7.6 64-bit ('base': conda)"
  }
 },
 "nbformat": 4,
 "nbformat_minor": 2,
 "cells": [
  {
   "cell_type": "code",
   "execution_count": 1,
   "metadata": {},
   "outputs": [],
   "source": [
    "from requests import get\n",
    "import bs4\n",
    "\n",
    "with open('urls.txt') as file:\n",
    "    urls = file.readlines()\n",
    "# print(len(urls))\n",
    "\n",
    "for url in urls[:1]:\n",
    "    res = get(url[:-1])\n",
    "    response = bs4.BeautifulSoup(res.text, 'html.parser')\n",
    "    # print(response.prettify())"
   ]
  },
  {
   "cell_type": "code",
   "execution_count": 2,
   "metadata": {
    "tags": []
   },
   "outputs": [
    {
     "output_type": "stream",
     "name": "stdout",
     "text": "Bhadrachalam Temple\n"
    }
   ],
   "source": [
    "print(response.find('h1', class_='entry-title').text)"
   ]
  },
  {
   "cell_type": "code",
   "execution_count": 19,
   "metadata": {
    "tags": []
   },
   "outputs": [
    {
     "output_type": "stream",
     "name": "stdout",
     "text": "Locality/village :\tBhadrachalam\nState :\tTelangana\nCountry :\tIndia\nNearest City/Town :\tBhadrachalam\nBest Season To Visit :\tAll\nLanguages :\tTelugu & English\nTemple Timings :Temple is opened from 4 AM to 12.00 PM and 3 PM to 9 PM.\nPhotography :\tNot Allowed\nKancharla Gopanna, popularly known as Bhakta Ramadas is known to have constructed the Bhadrachalam Temple. He was born in Nelakondapalli village of Khammam Taluka to Linganna Murthy and Kadamba during 17th century. He was the nephew of Akkanna, the administrative head in the court of Nawab Abul Hussain Shah, who was the Taneshah of Golconda. He was appointed as Tahasildar of Palvoncha Paragana. He was doing his official duties earnestly and was feeding the poor’s at his house. One day he heard the news that villagers of his area are proceeding to witness Jatara at Bhadrachalam. Out of so much curiousity, he too visited the holy place and found the deities in beautiful appearance.For the construction of temple, Ramadas asked the villagers to contribute liberally. Due to un sufficient amount, the villagers appealed to him to spend the revenue collection with a promise to repay the amount after harvesting the crops. Therefore, Ramadas constructed the temple without the permission of Golconda Nawab with Rs.6 lakhs collected from land revenues.\nBhadrachalam Temple – Sree Sita Ramachandra Swamy Temple\nWhen the temple was almost near completion, he had a problem of fixing Sudarshana Chakra at the crest of the main temple. He was deeply worried and fall asleep. That night, Lord Rama came into his dream and told him to take a holy dip in the Godavari River. On the very next morning, he took a dip and found the Sudarshana Chakra without much difficulty. Soon after the construction, he got trapped for the mis-utilisation of revenue for building the temple and was jailed for 12 years in Golconda Fort. Unable to believe the miseries, Ramadas implored Lord Rama by singing very emotional and praising songs. The Golconda King Taneshah realized the Ramadas’s devotional spirit when he was repaid the lost revenue amount by the Lord Rama itself with his brother Lakshmana who came as servants of Bhakta Ramadas to his fort to get release of their devotee from imprisonment. Next morning, Taneshah realized that those servants were none other than Rama and Lakshmana. After knowing this, he released Ramadas and prayed to forgive him by putting all the gold coins received last night at his feet. But Ramadas refused to take back those coins, except two which he installed in the temple as a mark of divine power. These coins can still be seen in Bhadrachalam temple even today. Influenced by Lord Rama, Golconda King Taneshah also became his follower and started offering pearls on the occasion of Sri Ram Navami every year as a token of love. This is perhaps the unique instance of Muslim patronage of a Hindu temple. This procedure is still followed by the present State government every year.\nThe main idol in the temple is of Lord Sri Rama being represented as a handsome and charming person, with well-built physique, holding Dhanus and Bana in his both hands, and standing in the ‘Tribhanga’ attitude as opposed to the ‘Samabhanga’ pose. Sita stands near him, also in the Tribhanga attitude, with a lotus in one hand and the other hand shown in the ‘Katyavalambita’ posture.\nToday, this temple is famous not only in Telangana but throughout India and worldwide, and inspite of the difficulty of its approach, the magical charm of the idol attracts thousands of pilgrims every year.\n['Bhadrachalam', 'Telangana', 'India', 'Bhadrachalam', 'All', 'Telugu & English', 'Temple is opened from 4 AM to 12.00 PM and 3 PM to 9 PM.', 'Not Allowed']\n"
    }
   ],
   "source": [
    "\n",
    "\n",
    "csv_file=open('abc.csv','a')\n",
    "csv_writer=csv.writer(csv_file)\n",
    "\n",
    "matter=response.find('div',class_='entry-summary')\n",
    "# with open('bla.txt','w') as fi:\n",
    "for i in matter.findAll('p'):\n",
    "    print(i.text)\n",
    "    luuu=i.text.replace('\\t',' ').split('\\n')\n",
    "    lww=[]\n",
    "    for i in luuu:\n",
    "        # print(i)\n",
    "        lww.append(i.split(':')[1].strip())\n",
    "\n",
    "loo=[]\n",
    "for i in response.find('div',class_='panel active'):\n",
    "    print(i.text)\n",
    "    loo.append(i.text)\n",
    "    # file.write(i.text)\n",
    "    # for j in i.findAll('p'):\n",
    "        # print(j.text)\n",
    "# print(len(loo))\n",
    "\n",
    "\n",
    "csv_writer.writerow(lww+[' '.join(loo)])\n",
    "print((lww))\n",
    "csv_file.close()\n",
    "        # fi.write(i.text)\n"
   ]
  },
  {
   "cell_type": "code",
   "execution_count": 13,
   "metadata": {
    "tags": []
   },
   "outputs": [
    {
     "output_type": "stream",
     "name": "stdout",
     "text": "Kancharla Gopanna, popularly known as Bhakta Ramadas is known to have constructed the Bhadrachalam Temple. He was born in Nelakondapalli village of Khammam Taluka to Linganna Murthy and Kadamba during 17th century. He was the nephew of Akkanna, the administrative head in the court of Nawab Abul Hussain Shah, who was the Taneshah of Golconda. He was appointed as Tahasildar of Palvoncha Paragana. He was doing his official duties earnestly and was feeding the poor’s at his house. One day he heard the news that villagers of his area are proceeding to witness Jatara at Bhadrachalam. Out of so much curiousity, he too visited the holy place and found the deities in beautiful appearance.For the construction of temple, Ramadas asked the villagers to contribute liberally. Due to un sufficient amount, the villagers appealed to him to spend the revenue collection with a promise to repay the amount after harvesting the crops. Therefore, Ramadas constructed the temple without the permission of Golconda Nawab with Rs.6 lakhs collected from land revenues.\nBhadrachalam Temple – Sree Sita Ramachandra Swamy Temple\nWhen the temple was almost near completion, he had a problem of fixing Sudarshana Chakra at the crest of the main temple. He was deeply worried and fall asleep. That night, Lord Rama came into his dream and told him to take a holy dip in the Godavari River. On the very next morning, he took a dip and found the Sudarshana Chakra without much difficulty. Soon after the construction, he got trapped for the mis-utilisation of revenue for building the temple and was jailed for 12 years in Golconda Fort. Unable to believe the miseries, Ramadas implored Lord Rama by singing very emotional and praising songs. The Golconda King Taneshah realized the Ramadas’s devotional spirit when he was repaid the lost revenue amount by the Lord Rama itself with his brother Lakshmana who came as servants of Bhakta Ramadas to his fort to get release of their devotee from imprisonment. Next morning, Taneshah realized that those servants were none other than Rama and Lakshmana. After knowing this, he released Ramadas and prayed to forgive him by putting all the gold coins received last night at his feet. But Ramadas refused to take back those coins, except two which he installed in the temple as a mark of divine power. These coins can still be seen in Bhadrachalam temple even today. Influenced by Lord Rama, Golconda King Taneshah also became his follower and started offering pearls on the occasion of Sri Ram Navami every year as a token of love. This is perhaps the unique instance of Muslim patronage of a Hindu temple. This procedure is still followed by the present State government every year.\nThe main idol in the temple is of Lord Sri Rama being represented as a handsome and charming person, with well-built physique, holding Dhanus and Bana in his both hands, and standing in the ‘Tribhanga’ attitude as opposed to the ‘Samabhanga’ pose. Sita stands near him, also in the Tribhanga attitude, with a lotus in one hand and the other hand shown in the ‘Katyavalambita’ posture.\nToday, this temple is famous not only in Telangana but throughout India and worldwide, and inspite of the difficulty of its approach, the magical charm of the idol attracts thousands of pilgrims every year.\n5\n"
    }
   ],
   "source": [
    "with open('matter.txt','w') as file:\n",
    "    loo=[]\n",
    "    for i in response.find('div',class_='panel active'):\n",
    "        print(i.text)\n",
    "        loo.append(i.text)\n",
    "        file.write(i.text)\n",
    "        # for j in i.findAll('p'):\n",
    "            # print(j.text)\n",
    "    print(len(loo))"
   ]
  },
  {
   "cell_type": "code",
   "execution_count": 7,
   "metadata": {},
   "outputs": [],
   "source": [
    "import csv\n",
    "\n",
    "csv_file=open('abc.csv','a')\n",
    "csv_writer=csv.writer(csv_file,)\n",
    "csv_writer.writerow(['Temple Name','Locality/village','State','Country','Nearest City/Town','Best Season To Visit,Languages','Temple Timings','Photography','Description'])\n",
    "csv_file.close()"
   ]
  },
  {
   "cell_type": "code",
   "execution_count": null,
   "metadata": {},
   "outputs": [],
   "source": []
  }
 ]
}